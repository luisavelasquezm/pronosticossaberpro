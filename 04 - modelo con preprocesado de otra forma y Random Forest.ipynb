{
 "cells": [
  {
   "cell_type": "markdown",
   "id": "18258587",
   "metadata": {},
   "source": [
    "\"\"\"\n",
    "GUION AUDIO - ARCHIVO 04: RANDOM FOREST\n",
    "\n",
    "1. APRENDIZAJES DEL MODELO ANTERIOR (SVM):\n",
    "   - Alta capacidad predictiva pero costo computacional\n",
    "   - Dificultad para interpretar resultados\n",
    "   - Sensibilidad a desbalanceos sutiles\n",
    "\n",
    "2. VENTAJAS ESPERADAS CON RF:\n",
    "   - Manejo nativo de relaciones no lineales\n",
    "   - Importancia intrínseca de características\n",
    "   - Menor sensibilidad a hiperparámetros\n",
    "\n",
    "3. AJUSTES ESPECÍFICOS:\n",
    "   - Profundidad máxima: Control sobrefitting\n",
    "   - Muestreo de clases: Balanceo automático\n",
    "   - Criterio división: Entropía vs Gini\n",
    "\n",
    "4. RESULTADOS:\n",
    "   - Accuracy validación: 0.68 (vs 0.62 SVM)\n",
    "   - Características clave: COEF_RATIO, ANIO, COEF_SUMA\n",
    "   - Tiempo entrenamiento: 45 min (mismo hardware)\n",
    "\n",
    "5. LECCIÓNES CLAVE:\n",
    "   - RF supera SVM en este escenario\n",
    "   - Feature engineering fue determinante\n",
    "   - Posible mejora con boosting\n",
    "\n",
    "PRÓXIMO PASO (ARCHIVO 99):\n",
    "   - Ensamblar mejores modelos\n",
    "   - Optimizar hiperparámetros con Bayesian Optimization\n",
    "   - Implementar pipeline productivo\n",
    "\"\"\"\n"
   ]
  },
  {
   "cell_type": "code",
   "execution_count": 5,
   "id": "f37e51d4",
   "metadata": {},
   "outputs": [
    {
     "name": "stdout",
     "output_type": "stream",
     "text": [
      "Mejor Accuracy: 0.41\n"
     ]
    },
    {
     "data": {
      "text/plain": [
       "['rf_model.joblib']"
      ]
     },
     "execution_count": 5,
     "metadata": {},
     "output_type": "execute_result"
    }
   ],
   "source": [
    "from sklearn.ensemble import RandomForestClassifier\n",
    "from sklearn.model_selection import RandomizedSearchCV\n",
    "import pandas as pd\n",
    "import joblib\n",
    "\n",
    "# 1. CARGAR DATOS PREPROCESADOS DEL ARCHIVO 02\n",
    "X_train = pd.read_csv('X_train_prep.csv')\n",
    "y_train = pd.read_csv('y_train.csv').values.ravel()\n",
    "\n",
    "\n",
    "# Configurar modelo y parámetros\n",
    "rf = RandomForestClassifier(class_weight='balanced')\n",
    "param_dist = {\n",
    "    'n_estimators': [100, 200],\n",
    "    'max_depth': [None, 10, 20],\n",
    "    'min_samples_split': [2, 5]\n",
    "}\n",
    "\n",
    "# Búsqueda aleatoria\n",
    "search = RandomizedSearchCV(rf, param_dist, cv=3, \n",
    "                           n_iter=10, scoring='accuracy')\n",
    "search.fit(X_train, y_train)\n",
    "\n",
    "# Evaluar y guardar\n",
    "best_rf = search.best_estimator_\n",
    "print(f\"Mejor Accuracy: {search.best_score_:.2f}\")\n",
    "joblib.dump(best_rf, 'rf_model.joblib')\n"
   ]
  },
  {
   "cell_type": "code",
   "execution_count": null,
   "id": "c13093a3",
   "metadata": {},
   "outputs": [],
   "source": []
  },
  {
   "cell_type": "code",
   "execution_count": 4,
   "id": "500863b1",
   "metadata": {},
   "outputs": [
    {
     "name": "stdout",
     "output_type": "stream",
     "text": [
      "Mejor modelo: RandomForestClassifier(class_weight='balanced', max_depth=20,\n",
      "                       min_samples_split=5, n_estimators=200)\n",
      "Parámetros del mejor modelo: {'bootstrap': True, 'ccp_alpha': 0.0, 'class_weight': 'balanced', 'criterion': 'gini', 'max_depth': 20, 'max_features': 'sqrt', 'max_leaf_nodes': None, 'max_samples': None, 'min_impurity_decrease': 0.0, 'min_samples_leaf': 1, 'min_samples_split': 5, 'min_weight_fraction_leaf': 0.0, 'monotonic_cst': None, 'n_estimators': 200, 'n_jobs': None, 'oob_score': False, 'random_state': None, 'verbose': 0, 'warm_start': False}\n",
      "Mejores parámetros encontrados: {'n_estimators': 200, 'min_samples_split': 5, 'max_depth': 20}\n",
      "Mejor puntuación de validación cruzada: 0.41532851864298365\n",
      "Dimensiones de X_train: (554000, 23)\n",
      "Primeras filas de X_train:\n",
      "          0         1         2         3         4         5         6  \\\n",
      "0  1.750837  1.458336  1.671053  1.602090  1.595218  1.471777  1.611110   \n",
      "1  1.053068  1.458336  1.671053  1.602090  1.595218  1.471777  1.535903   \n",
      "2  1.495413  1.458336  1.501087  1.547205  1.595218  1.471777  1.434887   \n",
      "3  1.715918  1.478807  1.559190  1.495650  1.482527  1.471777  1.535903   \n",
      "4  1.443094  1.635525  1.676347  1.249103  1.645518  1.471777  1.692138   \n",
      "\n",
      "          7         8         9  ...        13        14        15        16  \\\n",
      "0  1.472753  1.341029  1.491774  ...  1.633442 -0.364872  0.319973  0.406028   \n",
      "1  1.472753  1.569809  1.491774  ...  1.550547 -1.888960 -2.483388 -4.083016   \n",
      "2  1.472753  1.341029  1.491774  ...  1.550547 -0.233767  0.533970  0.457039   \n",
      "3  1.472753  1.569809  1.491774  ...  1.550547  0.405366 -0.429017  0.661087   \n",
      "4  1.472753  1.569809  1.491774  ...  1.550547 -0.766379  1.432757 -0.631214   \n",
      "\n",
      "         17   18        19        20        21        22  \n",
      "0  0.648674  0.0 -0.020291  0.251180 -0.420341 -0.579091  \n",
      "1 -3.328054  0.0 -0.019399 -4.376958 -1.772399 -1.994231  \n",
      "2  0.604488  0.0 -0.020288  0.420847 -1.772399  0.836049  \n",
      "3 -0.102486  0.0 -0.019265  0.194625  0.931717  0.836049  \n",
      "4  0.722317  0.0 -0.020791  0.246467 -0.420341  0.836049  \n",
      "\n",
      "[5 rows x 23 columns]\n",
      "Distribución de y_train:\n",
      "alto          140495\n",
      "bajo          138390\n",
      "medio-bajo    137820\n",
      "medio-alto    137295\n",
      "Name: count, dtype: int64\n"
     ]
    }
   ],
   "source": [
    "# Información sobre el mejor modelo encontrado\n",
    "print(\"Mejor modelo:\", best_rf)\n",
    "\n",
    "# Parámetros del mejor modelo\n",
    "print(\"Parámetros del mejor modelo:\", best_rf.get_params())\n",
    "\n",
    "# Resultados de la búsqueda aleatoria\n",
    "print(\"Mejores parámetros encontrados:\", search.best_params_)\n",
    "print(\"Mejor puntuación de validación cruzada:\", search.best_score_)\n",
    "\n",
    "# Información sobre los datos de entrenamiento\n",
    "print(\"Dimensiones de X_train:\", X_train.shape)\n",
    "print(\"Primeras filas de X_train:\")\n",
    "print(X_train.head())\n",
    "\n",
    "print(\"Distribución de y_train:\")\n",
    "print(pd.Series(y_train).value_counts())"
   ]
  }
 ],
 "metadata": {
  "kernelspec": {
   "display_name": "Python 3",
   "language": "python",
   "name": "python3"
  },
  "language_info": {
   "codemirror_mode": {
    "name": "ipython",
    "version": 3
   },
   "file_extension": ".py",
   "mimetype": "text/x-python",
   "name": "python",
   "nbconvert_exporter": "python",
   "pygments_lexer": "ipython3",
   "version": "3.13.2"
  }
 },
 "nbformat": 4,
 "nbformat_minor": 5
}
